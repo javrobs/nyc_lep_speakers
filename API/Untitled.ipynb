{
 "cells": [
  {
   "cell_type": "code",
   "execution_count": 2,
   "id": "3da42670",
   "metadata": {},
   "outputs": [],
   "source": [
    "from pymongo import MongoClient\n",
    "\n",
    "\n",
    "# Create an instance of MongoClient\n",
    "client=MongoClient(port=27017)\n",
    "\n",
    "# Assign the database to a variable name\n",
    "languages=client.languages\n",
    "\n",
    "# Assign the collections to variables\n",
    "populations=languages.populations\n",
    "communities=languages.communities\n"
   ]
  },
  {
   "cell_type": "code",
   "execution_count": 24,
   "id": "02d197b9",
   "metadata": {},
   "outputs": [],
   "source": [
    "query={'LEP Population (Estimate)':{\"$gt\":0}}\n",
    "filter_lines={'CVALEP Population (Estimate)':0,'% of CVALEP Population':0}"
   ]
  },
  {
   "cell_type": "code",
   "execution_count": 27,
   "id": "ca525987",
   "metadata": {},
   "outputs": [
    {
     "name": "stdout",
     "output_type": "stream",
     "text": [
      "{'_id': ObjectId('644b35d4a3c7a2d44c54489e'), 'American Community Survey (ACS) Data Time Period': '2015-2019', 'Borough': 'Manhattan', 'Borough Community District Code': '101', 'Community District Name': 'Battery Park City, Tribeca', 'Language': 'Albanian', 'LEP Population (Estimate)': 7, '% of LEP Population': 0.2}\n"
     ]
    }
   ],
   "source": [
    "for pop in populations.find(query,filter_lines):\n",
    "    print(pop)\n",
    "    break"
   ]
  },
  {
   "cell_type": "code",
   "execution_count": null,
   "id": "97a6cf3f",
   "metadata": {},
   "outputs": [],
   "source": []
  },
  {
   "cell_type": "code",
   "execution_count": null,
   "id": "34b0a0a5",
   "metadata": {},
   "outputs": [],
   "source": []
  }
 ],
 "metadata": {
  "kernelspec": {
   "display_name": "PythonData",
   "language": "python",
   "name": "pythondata"
  },
  "language_info": {
   "codemirror_mode": {
    "name": "ipython",
    "version": 3
   },
   "file_extension": ".py",
   "mimetype": "text/x-python",
   "name": "python",
   "nbconvert_exporter": "python",
   "pygments_lexer": "ipython3",
   "version": "3.7.7"
  }
 },
 "nbformat": 4,
 "nbformat_minor": 5
}
