{
 "cells": [
  {
   "cell_type": "code",
   "execution_count": 2,
   "id": "19a8fc93",
   "metadata": {},
   "outputs": [],
   "source": [
    "from pymongo import MongoClient\n",
    "\n",
    "\n",
    "# Create an instance of MongoClient\n",
    "client=MongoClient(port=27017)\n",
    "\n",
    "# Assign the database to a variable name\n",
    "languages=client.languages\n",
    "\n",
    "# Assign the collections to variables\n",
    "populations=languages.populations\n",
    "communities=languages.communities\n"
   ]
  },
  {
   "cell_type": "code",
   "execution_count": 4,
   "id": "632cd329",
   "metadata": {},
   "outputs": [
    {
     "data": {
      "text/plain": [
       "{'_id': ObjectId('644b35d4a3c7a2d44c54489c'),\n",
       " 'American Community Survey (ACS) Data Time Period': '2015-2019',\n",
       " 'Borough': 'Manhattan',\n",
       " 'Borough Community District Code': '101',\n",
       " 'Community District Name': 'Battery Park City, Tribeca',\n",
       " 'Language': 'Afrikaans',\n",
       " 'LEP Population (Estimate)': 0,\n",
       " '% of LEP Population': 0.0,\n",
       " 'CVALEP Population (Estimate)': 0,\n",
       " '% of CVALEP Population': 0.0}"
      ]
     },
     "execution_count": 4,
     "metadata": {},
     "output_type": "execute_result"
    }
   ],
   "source": [
    "query={'LEP Population (Estimate)':{\"gt\":0}}"
   ]
  },
  {
   "cell_type": "code",
   "execution_count": 5,
   "id": "53ab1fba",
   "metadata": {},
   "outputs": [
    {
     "data": {
      "text/plain": [
       "{'_id': ObjectId('644b35d4a3c7a2d44c54489c'),\n",
       " 'American Community Survey (ACS) Data Time Period': '2015-2019',\n",
       " 'Borough': 'Manhattan',\n",
       " 'Borough Community District Code': '101',\n",
       " 'Community District Name': 'Battery Park City, Tribeca',\n",
       " 'Language': 'Afrikaans',\n",
       " 'LEP Population (Estimate)': 0,\n",
       " '% of LEP Population': 0.0,\n",
       " 'CVALEP Population (Estimate)': 0,\n",
       " '% of CVALEP Population': 0.0}"
      ]
     },
     "execution_count": 5,
     "metadata": {},
     "output_type": "execute_result"
    }
   ],
   "source": [
    "populations.find_one(query)"
   ]
  },
  {
   "cell_type": "code",
   "execution_count": null,
   "id": "bcab120f",
   "metadata": {},
   "outputs": [],
   "source": []
  }
 ],
 "metadata": {
  "kernelspec": {
   "display_name": "PythonData",
   "language": "python",
   "name": "pythondata"
  },
  "language_info": {
   "codemirror_mode": {
    "name": "ipython",
    "version": 3
   },
   "file_extension": ".py",
   "mimetype": "text/x-python",
   "name": "python",
   "nbconvert_exporter": "python",
   "pygments_lexer": "ipython3",
   "version": "3.7.7"
  }
 },
 "nbformat": 4,
 "nbformat_minor": 5
}
