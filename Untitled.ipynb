{
 "cells": [
  {
   "cell_type": "code",
   "execution_count": 1,
   "id": "a70de69e",
   "metadata": {},
   "outputs": [],
   "source": [
    "from pymongo import MongoClient\n",
    "from pprint import pprint\n",
    "import pandas as pd"
   ]
  },
  {
   "cell_type": "code",
   "execution_count": 2,
   "id": "b14d722e",
   "metadata": {},
   "outputs": [],
   "source": [
    "mongo = MongoClient(port = 27017)\n",
    "\n",
    "db = mongo['languages']\n",
    "\n",
    "populations = db['populations']"
   ]
  },
  {
   "cell_type": "code",
   "execution_count": 6,
   "id": "6f450475",
   "metadata": {},
   "outputs": [],
   "source": [
    "query={'LEP Population (Estimate)':{\"$gt\":0}}\n",
    "sort=[('LEP Population (Estimate)',-1)]\n",
    "limit=5\n",
    "population_json=list(populations.find(query).sort(sort).limit(limit))"
   ]
  },
  {
   "cell_type": "code",
   "execution_count": 7,
   "id": "c6de2ae1",
   "metadata": {},
   "outputs": [
    {
     "name": "stdout",
     "output_type": "stream",
     "text": [
      "[{'% of CVALEP Population': 94.3,\n",
      "  '% of LEP Population': 94.1,\n",
      "  'American Community Survey (ACS) Data Time Period': '2015-2019',\n",
      "  'Borough': 'Manhattan',\n",
      "  'Borough Community District Code': '112',\n",
      "  'CVALEP Population (Estimate)': 35881,\n",
      "  'Community District Name': 'Washington Heights, Inwood',\n",
      "  'LEP Population (Estimate)': 70064,\n",
      "  'Language': 'Spanish',\n",
      "  '_id': ObjectId('644dd7638b89736c89bf9ee5')},\n",
      " {'% of CVALEP Population': 44.5,\n",
      "  '% of LEP Population': 55.6,\n",
      "  'American Community Survey (ACS) Data Time Period': '2015-2019',\n",
      "  'Borough': 'Queens',\n",
      "  'Borough Community District Code': '407',\n",
      "  'CVALEP Population (Estimate)': 23883,\n",
      "  'Community District Name': 'Flushing, Bay Terrace',\n",
      "  'LEP Population (Estimate)': 67444,\n",
      "  'Language': 'Chinese (incl. Mandarin, Cantonese)',\n",
      "  '_id': ObjectId('644dd7638b89736c89bfb22d')},\n",
      " {'% of CVALEP Population': 67.1,\n",
      "  '% of LEP Population': 77.1,\n",
      "  'American Community Survey (ACS) Data Time Period': '2015-2019',\n",
      "  'Borough': 'Queens',\n",
      "  'Borough Community District Code': '403',\n",
      "  'CVALEP Population (Estimate)': 18638,\n",
      "  'Community District Name': 'Jackson Heights, North Corona',\n",
      "  'LEP Population (Estimate)': 61459,\n",
      "  'Language': 'Spanish',\n",
      "  '_id': ObjectId('644dd7638b89736c89bfb06d')},\n",
      " {'% of CVALEP Population': 87.1,\n",
      "  '% of LEP Population': 87.7,\n",
      "  'American Community Survey (ACS) Data Time Period': '2015-2019',\n",
      "  'Borough': 'Bronx',\n",
      "  'Borough Community District Code': '204',\n",
      "  'CVALEP Population (Estimate)': 17280,\n",
      "  'Community District Name': 'Highbridge, Concourse Village',\n",
      "  'LEP Population (Estimate)': 42235,\n",
      "  'Language': 'Spanish',\n",
      "  '_id': ObjectId('644dd7638b89736c89bfa105')},\n",
      " {'% of CVALEP Population': 88.3,\n",
      "  '% of LEP Population': 89.0,\n",
      "  'American Community Survey (ACS) Data Time Period': '2015-2019',\n",
      "  'Borough': 'Bronx',\n",
      "  'Borough Community District Code': '205',\n",
      "  'CVALEP Population (Estimate)': 17219,\n",
      "  'Community District Name': 'University Hts., Fordham, Mt. Hope',\n",
      "  'LEP Population (Estimate)': 41609,\n",
      "  'Language': 'Spanish',\n",
      "  '_id': ObjectId('644dd7638b89736c89bfa18d')}]\n"
     ]
    }
   ],
   "source": [
    "pprint(population_json)"
   ]
  },
  {
   "cell_type": "code",
   "execution_count": 8,
   "id": "a644ed6c",
   "metadata": {},
   "outputs": [],
   "source": [
    "language=\"Spanish\"\n",
    "match_query= {'$match':{'Language': language}}\n",
    "group_query = {'$group':{'_id':'$Language','Lep Population':{'$sum':'$LEP Population (Estimate)'}}}\n",
    "pipeline=[match_query,group_query]\n",
    "results= list(populations.aggregate(pipeline))"
   ]
  },
  {
   "cell_type": "code",
   "execution_count": 5,
   "id": "996477e0",
   "metadata": {},
   "outputs": [
    {
     "name": "stdout",
     "output_type": "stream",
     "text": [
      "[{'Lep Population': 856530, '_id': 'Spanish'}]\n"
     ]
    }
   ],
   "source": [
    "pprint(results[0:10])"
   ]
  },
  {
   "cell_type": "code",
   "execution_count": 25,
   "id": "e813abfc",
   "metadata": {},
   "outputs": [],
   "source": [
    "# 5 BIGGEST LEP COMMUNITIES\n",
    "total_population_df = pd.DataFrame(population_json)\n",
    "total_population_df = total_population_df.sort_values(by='LEP Population (Estimate)', ascending=False)\n",
    "top_five_communities = total_population_df.head()"
   ]
  },
  {
   "cell_type": "code",
   "execution_count": 28,
   "id": "a7fd3ba2",
   "metadata": {},
   "outputs": [],
   "source": [
    "top_five_communities = top_five_communities[['Community District Name','Borough','Language','LEP Population (Estimate)']]"
   ]
  },
  {
   "cell_type": "code",
   "execution_count": 29,
   "id": "b465d8f3",
   "metadata": {},
   "outputs": [
    {
     "data": {
      "text/html": [
       "<div>\n",
       "<style scoped>\n",
       "    .dataframe tbody tr th:only-of-type {\n",
       "        vertical-align: middle;\n",
       "    }\n",
       "\n",
       "    .dataframe tbody tr th {\n",
       "        vertical-align: top;\n",
       "    }\n",
       "\n",
       "    .dataframe thead th {\n",
       "        text-align: right;\n",
       "    }\n",
       "</style>\n",
       "<table border=\"1\" class=\"dataframe\">\n",
       "  <thead>\n",
       "    <tr style=\"text-align: right;\">\n",
       "      <th></th>\n",
       "      <th>Community District Name</th>\n",
       "      <th>Borough</th>\n",
       "      <th>Language</th>\n",
       "      <th>LEP Population (Estimate)</th>\n",
       "    </tr>\n",
       "  </thead>\n",
       "  <tbody>\n",
       "    <tr>\n",
       "      <th>378</th>\n",
       "      <td>Washington Heights, Inwood</td>\n",
       "      <td>Manhattan</td>\n",
       "      <td>Spanish</td>\n",
       "      <td>70064</td>\n",
       "    </tr>\n",
       "    <tr>\n",
       "      <th>1823</th>\n",
       "      <td>Flushing, Bay Terrace</td>\n",
       "      <td>Queens</td>\n",
       "      <td>Chinese (incl. Mandarin, Cantonese)</td>\n",
       "      <td>67444</td>\n",
       "    </tr>\n",
       "    <tr>\n",
       "      <th>1650</th>\n",
       "      <td>Jackson Heights, North Corona</td>\n",
       "      <td>Queens</td>\n",
       "      <td>Spanish</td>\n",
       "      <td>61459</td>\n",
       "    </tr>\n",
       "    <tr>\n",
       "      <th>496</th>\n",
       "      <td>Highbridge, Concourse Village</td>\n",
       "      <td>Bronx</td>\n",
       "      <td>Spanish</td>\n",
       "      <td>42235</td>\n",
       "    </tr>\n",
       "    <tr>\n",
       "      <th>524</th>\n",
       "      <td>University Hts., Fordham, Mt. Hope</td>\n",
       "      <td>Bronx</td>\n",
       "      <td>Spanish</td>\n",
       "      <td>41609</td>\n",
       "    </tr>\n",
       "  </tbody>\n",
       "</table>\n",
       "</div>"
      ],
      "text/plain": [
       "                 Community District Name    Borough  \\\n",
       "378           Washington Heights, Inwood  Manhattan   \n",
       "1823               Flushing, Bay Terrace     Queens   \n",
       "1650       Jackson Heights, North Corona     Queens   \n",
       "496        Highbridge, Concourse Village      Bronx   \n",
       "524   University Hts., Fordham, Mt. Hope      Bronx   \n",
       "\n",
       "                                 Language  LEP Population (Estimate)  \n",
       "378                               Spanish                      70064  \n",
       "1823  Chinese (incl. Mandarin, Cantonese)                      67444  \n",
       "1650                              Spanish                      61459  \n",
       "496                               Spanish                      42235  \n",
       "524                               Spanish                      41609  "
      ]
     },
     "execution_count": 29,
     "metadata": {},
     "output_type": "execute_result"
    }
   ],
   "source": [
    "top_five_communities"
   ]
  },
  {
   "cell_type": "code",
   "execution_count": 4,
   "id": "d45f3094",
   "metadata": {},
   "outputs": [
    {
     "name": "stdout",
     "output_type": "stream",
     "text": [
      "[{'Lep Population': 856530, '_id': 'Spanish'}]\n"
     ]
    }
   ],
   "source": [
    "pprint(results)"
   ]
  },
  {
   "cell_type": "code",
   "execution_count": 6,
   "id": "f86cf2cc",
   "metadata": {},
   "outputs": [
    {
     "data": {
      "text/html": [
       "<div>\n",
       "<style scoped>\n",
       "    .dataframe tbody tr th:only-of-type {\n",
       "        vertical-align: middle;\n",
       "    }\n",
       "\n",
       "    .dataframe tbody tr th {\n",
       "        vertical-align: top;\n",
       "    }\n",
       "\n",
       "    .dataframe thead th {\n",
       "        text-align: right;\n",
       "    }\n",
       "</style>\n",
       "<table border=\"1\" class=\"dataframe\">\n",
       "  <thead>\n",
       "    <tr style=\"text-align: right;\">\n",
       "      <th></th>\n",
       "      <th>_id</th>\n",
       "      <th>Lep Population</th>\n",
       "    </tr>\n",
       "  </thead>\n",
       "  <tbody>\n",
       "    <tr>\n",
       "      <th>0</th>\n",
       "      <td>Spanish</td>\n",
       "      <td>856530</td>\n",
       "    </tr>\n",
       "  </tbody>\n",
       "</table>\n",
       "</div>"
      ],
      "text/plain": [
       "       _id  Lep Population\n",
       "0  Spanish          856530"
      ]
     },
     "execution_count": 6,
     "metadata": {},
     "output_type": "execute_result"
    }
   ],
   "source": [
    "result_df=pd.DataFrame(results)\n",
    "result_df.head()"
   ]
  },
  {
   "cell_type": "code",
   "execution_count": null,
   "id": "e45f96f7",
   "metadata": {},
   "outputs": [],
   "source": [
    "total_population=sum(result_df['_id'])\n",
    "total_population"
   ]
  },
  {
   "cell_type": "code",
   "execution_count": 35,
   "id": "0fa19b9f",
   "metadata": {},
   "outputs": [],
   "source": [
    "# include= {'$sum':'$LEP Population (Estimate)'}\n",
    "# include_list=list(populations.find({},include))"
   ]
  },
  {
   "cell_type": "code",
   "execution_count": 19,
   "id": "a0635084",
   "metadata": {},
   "outputs": [
    {
     "name": "stdout",
     "output_type": "stream",
     "text": [
      "[{'_id': 25},\n",
      " {'_id': 173},\n",
      " {'_id': 120},\n",
      " {'_id': 1986},\n",
      " {'_id': 608},\n",
      " {'_id': 730},\n",
      " {'_id': 1785},\n",
      " {'_id': 145},\n",
      " {'_id': 395},\n",
      " {'_id': 273}]\n"
     ]
    }
   ],
   "source": [
    "pprint(results[0:10])"
   ]
  },
  {
   "cell_type": "code",
   "execution_count": null,
   "id": "f99ef42f",
   "metadata": {},
   "outputs": [],
   "source": []
  }
 ],
 "metadata": {
  "kernelspec": {
   "display_name": "Python [conda env:PythonData] *",
   "language": "python",
   "name": "conda-env-PythonData-py"
  },
  "language_info": {
   "codemirror_mode": {
    "name": "ipython",
    "version": 3
   },
   "file_extension": ".py",
   "mimetype": "text/x-python",
   "name": "python",
   "nbconvert_exporter": "python",
   "pygments_lexer": "ipython3",
   "version": "3.7.7"
  }
 },
 "nbformat": 4,
 "nbformat_minor": 5
}
