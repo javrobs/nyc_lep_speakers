{
 "cells": [
  {
   "cell_type": "markdown",
   "id": "8908b15d",
   "metadata": {},
   "source": [
    "# *WARNING:*   \n",
    "**DO NOT RUN** UNLESS YOU WANT TO CLEAR DATABASE BACK TO ORIGINAL SETUP"
   ]
  },
  {
   "cell_type": "code",
   "execution_count": 1,
   "id": "c3318b29",
   "metadata": {},
   "outputs": [
    {
     "data": {
      "text/plain": [
       "['admin',\n",
       " 'classDB',\n",
       " 'config',\n",
       " 'epa',\n",
       " 'languages',\n",
       " 'local',\n",
       " 'met',\n",
       " 'petsit',\n",
       " 'petsitly_marketing',\n",
       " 'uk_food']"
      ]
     },
     "execution_count": 1,
     "metadata": {},
     "output_type": "execute_result"
    }
   ],
   "source": [
    "#Import dependecies\n",
    "from pymongo import MongoClient\n",
    "import pandas as pd\n",
    "import json\n",
    "import csv\n",
    "\n",
    "#Set up MongoClient\n",
    "client=MongoClient(port=27017)\n",
    "client.list_database_names()"
   ]
  },
  {
   "cell_type": "code",
   "execution_count": 2,
   "id": "550946ee",
   "metadata": {},
   "outputs": [],
   "source": [
    "client.drop_database(\"languages\")"
   ]
  },
  {
   "cell_type": "code",
   "execution_count": 3,
   "id": "557ea9ae",
   "metadata": {},
   "outputs": [],
   "source": [
    "with open(\"../downloaded_data/Community Districts.geojson\") as file:\n",
    "    data = json.load(file)"
   ]
  },
  {
   "cell_type": "code",
   "execution_count": 4,
   "id": "f1262a42",
   "metadata": {},
   "outputs": [],
   "source": [
    "languages=client[\"languages\"]"
   ]
  },
  {
   "cell_type": "code",
   "execution_count": 5,
   "id": "747cda5c",
   "metadata": {},
   "outputs": [],
   "source": [
    "communities=languages[\"communities\"]\n",
    "populations=languages[\"populations\"]\n"
   ]
  },
  {
   "cell_type": "code",
   "execution_count": 6,
   "id": "8fdf7170",
   "metadata": {},
   "outputs": [
    {
     "data": {
      "text/plain": [
       "<pymongo.results.InsertOneResult at 0x2a1b6066d08>"
      ]
     },
     "execution_count": 6,
     "metadata": {},
     "output_type": "execute_result"
    }
   ],
   "source": [
    "communities.insert_one(data)"
   ]
  },
  {
   "cell_type": "code",
   "execution_count": 7,
   "id": "2c8465ac",
   "metadata": {},
   "outputs": [],
   "source": [
    "with open(\"../downloaded_data/Population_and_Languages_of_the_Limited_English_Proficient__LEP__Speakers_by_Community_District.csv\") as file:\n",
    "    data = csv.reader(file)\n",
    "    \n",
    "    headers=next(data)\n",
    "    populations_data=[]\n",
    "    for row in data:\n",
    "        row_dic={}\n",
    "        for i,header in enumerate(headers):\n",
    "            row_dic[header]=row[i]\n",
    "        populations_data.append(row_dic)"
   ]
  },
  {
   "cell_type": "code",
   "execution_count": 8,
   "id": "e1edd4b5",
   "metadata": {},
   "outputs": [
    {
     "data": {
      "text/plain": [
       "<pymongo.results.InsertManyResult at 0x2a1b6da6c08>"
      ]
     },
     "execution_count": 8,
     "metadata": {},
     "output_type": "execute_result"
    }
   ],
   "source": [
    "populations.insert_many(populations_data)"
   ]
  },
  {
   "cell_type": "code",
   "execution_count": 9,
   "id": "b8da09ca",
   "metadata": {},
   "outputs": [
    {
     "data": {
      "text/plain": [
       "['admin',\n",
       " 'classDB',\n",
       " 'config',\n",
       " 'epa',\n",
       " 'languages',\n",
       " 'local',\n",
       " 'met',\n",
       " 'petsit',\n",
       " 'petsitly_marketing',\n",
       " 'uk_food']"
      ]
     },
     "execution_count": 9,
     "metadata": {},
     "output_type": "execute_result"
    }
   ],
   "source": [
    "client.list_database_names()"
   ]
  },
  {
   "cell_type": "code",
   "execution_count": null,
   "id": "86fc3654",
   "metadata": {},
   "outputs": [],
   "source": []
  }
 ],
 "metadata": {
  "kernelspec": {
   "display_name": "PythonData",
   "language": "python",
   "name": "pythondata"
  },
  "language_info": {
   "codemirror_mode": {
    "name": "ipython",
    "version": 3
   },
   "file_extension": ".py",
   "mimetype": "text/x-python",
   "name": "python",
   "nbconvert_exporter": "python",
   "pygments_lexer": "ipython3",
   "version": "3.7.7"
  }
 },
 "nbformat": 4,
 "nbformat_minor": 5
}
